{
 "cells": [
  {
   "cell_type": "markdown",
   "id": "90f9dd91",
   "metadata": {},
   "source": [
    "This is the tutorial I partially re-implemented from the reference attached below on FHE \n",
    "directly using SEAL API with cmake and the computation in Python [1]"
   ]
  },
  {
   "cell_type": "code",
   "execution_count": 46,
   "id": "e0ba055c",
   "metadata": {},
   "outputs": [],
   "source": [
    "import ctypes"
   ]
  },
  {
   "cell_type": "code",
   "execution_count": 47,
   "id": "c3289e22",
   "metadata": {},
   "outputs": [],
   "source": [
    "seal_lib = ctypes.CDLL(\"./SEAL/build/lib/libsealc.so.3.7.2\")"
   ]
  },
  {
   "cell_type": "code",
   "execution_count": null,
   "id": "70f114bb",
   "metadata": {},
   "outputs": [],
   "source": [
    "seal_lib.EncParams_Create1.argtypes = [ ctypes.c_byte, ctypes.POINTER(ctypes.c_void_p) ]\n",
    "seal_lib.EncParams_SetPlainModulus1.argtypes = [ ctypes.c_void_p, ctypes.c_void_p ]\n",
    "seal_lib.EncParams_SetPolyModulusDegree.argtypes = [ ctypes.c_void_p, ctypes.c_ulonglong ]\n",
    "seal_lib.EncParams_SetCoeffModulus.argtypes = [ ctypes.c_void_p, ctypes.c_ulonglong, ctypes.POINTER(ctypes.c_ulonglong) ]\n",
    "seal_lib.Modulus_Create1.argtypes = [ ctypes.c_ulonglong, ctypes.POINTER(ctypes.c_void_p) ]\n",
    "seal_lib.CoeffModulus_BFVDefault.argtypes = [ ctypes.c_ulonglong, ctypes.c_int, ctypes.POINTER(ctypes.c_ulonglong), ctypes.POINTER(ctypes.c_ulonglong) ]\n",
    "seal_lib.SEALContext_Create.argtypes = [ ctypes.c_void_p, ctypes.c_bool, ctypes.c_int, ctypes.POINTER(ctypes.c_void_p) ]\n",
    "seal_lib.KeyGenerator_Create1.argtypes = [ ctypes.c_void_p, ctypes.POINTER(ctypes.c_void_p) ]\n",
    "seal_lib.KeyGenerator_SecretKey.argtypes = [ ctypes.c_void_p, ctypes.POINTER(ctypes.c_void_p) ]\n",
    "seal_lib.KeyGenerator_CreatePublicKey.argtypes = [ ctypes.c_void_p, ctypes.c_bool, ctypes.POINTER(ctypes.c_void_p) ]\n",
    "seal_lib.KeyGenerator_CreateRelinKeys.argtypes = [ ctypes.c_void_p, ctypes.c_bool, ctypes.POINTER(ctypes.c_void_p) ]\n",
    "seal_lib.Encryptor_Create.argtypes = [ ctypes.c_void_p, ctypes.c_void_p, ctypes.c_void_p, ctypes.POINTER(ctypes.c_void_p) ]\n",
    "seal_lib.Encryptor_Encrypt.argtypes = [ ctypes.c_void_p, ctypes.c_void_p, ctypes.c_void_p, ctypes.c_void_p ]\n",
    "seal_lib.Decryptor_Create.argtypes = [ ctypes.c_void_p, ctypes.c_void_p, ctypes.POINTER(ctypes.c_void_p) ]\n",
    "seal_lib.Decryptor_Decrypt.argtypes = [ ctypes.c_void_p, ctypes.c_void_p, ctypes.c_void_p ]\n",
    "seal_lib.Plaintext_Create1.argtypes = [ ctypes.c_void_p, ctypes.POINTER(ctypes.c_void_p) ]\n",
    "seal_lib.Plaintext_Create4.argtypes = [ ctypes.c_char_p, ctypes.c_void_p, ctypes.POINTER(ctypes.c_void_p) ]\n",
    "seal_lib.Plaintext_ToString.argtypes = [ ctypes.c_void_p, ctypes.c_char_p, ctypes.POINTER(ctypes.c_ulonglong) ]\n",
    "seal_lib.Ciphertext_Create1.argtypes = [ ctypes.c_void_p, ctypes.POINTER(ctypes.c_void_p) ]\n",
    "seal_lib.Ciphertext_SaveSize.argtypes = [ ctypes.c_void_p, ctypes.c_ubyte, ctypes.POINTER(ctypes.c_ulonglong) ]\n",
    "seal_lib.Ciphertext_Save.argtypes = [ ctypes.c_void_p, ctypes.POINTER(ctypes.c_ubyte), ctypes.c_ulonglong, ctypes.c_ubyte, ctypes.POINTER(ctypes.c_ulonglong) ]\n",
    "seal_lib.Ciphertext_Size.argtypes = [ ctypes.c_void_p, ctypes.POINTER(ctypes.c_ulonglong) ]\n",
    "seal_lib.Serialization_ComprModeDefault.argtypes = [ ctypes.POINTER(ctypes.c_ubyte) ]\n",
    "seal_lib.Evaluator_Create.argtypes = [ ctypes.c_void_p, ctypes.POINTER(ctypes.c_void_p) ]\n",
    "seal_lib.Evaluator_Square.argtypes = [ ctypes.c_void_p, ctypes.c_void_p, ctypes.c_void_p, ctypes.c_void_p ]\n",
    "seal_lib.Evaluator_AddPlain.argtypes = [ ctypes.c_void_p, ctypes.c_void_p, ctypes.c_void_p, ctypes.c_void_p ]\n",
    "seal_lib.Evaluator_Multiply.argtypes = [ ctypes.c_void_p, ctypes.c_void_p, ctypes.c_void_p, ctypes.c_void_p, ctypes.c_void_p ]\n",
    "seal_lib.Evaluator_Relinearize.argtypes = [ ctypes.c_void_p, ctypes.c_void_p, ctypes.c_void_p, ctypes.c_void_p, ctypes.c_void_p ]"
   ]
  },
  {
   "cell_type": "code",
   "execution_count": 32,
   "id": "d5720c7f",
   "metadata": {},
   "outputs": [
    {
     "data": {
      "text/plain": [
       "0"
      ]
     },
     "execution_count": 32,
     "metadata": {},
     "output_type": "execute_result"
    }
   ],
   "source": [
    "#\n",
    "# Create encryption parameter (CKKS)\n",
    "#\n",
    "\n",
    "ptr_encparm = ctypes.c_void_p()\n",
    "seal_lib.EncParams_Create1(\n",
    "  ctypes.c_byte(0x02), # 0x02 means CKKS\n",
    "  ctypes.byref(ptr_encparm)\n",
    ")\n",
    "\n",
    "#\n",
    "# Set encryption parameter's attribute\n",
    "#\n",
    "\n",
    "# 1. Set PolyModulusDegree\n",
    "seal_lib.EncParams_SetPolyModulusDegree(\n",
    "  ptr_encparm,\n",
    "  ctypes.c_ulonglong(8192)\n",
    ")\n",
    "# 2. Create CoeffModulus\n",
    "# (Here I create 5 40-bits prime numbers.)\n",
    "coeff_size_arr = (ctypes.c_int * 5)()\n",
    "coeff_size_arr[0] = 40\n",
    "coeff_size_arr[1] = 40\n",
    "coeff_size_arr[2] = 40\n",
    "coeff_size_arr[3] = 40\n",
    "coeff_size_arr[4] = 40\n",
    "coeff_arr = (ctypes.c_ulong * 5)()\n",
    "seal_lib.CoeffModulus_Create(\n",
    "  ctypes.c_ulonglong(8192),\n",
    "  ctypes.c_ulonglong(5),\n",
    "  ctypes.cast(coeff_size_arr, ctypes.POINTER(ctypes.c_int)),\n",
    "  ctypes.cast(coeff_arr, ctypes.POINTER(ctypes.c_ulong))\n",
    ")\n",
    "# 3. Set CoeffModulus\n",
    "seal_lib.EncParams_SetCoeffModulus(\n",
    "  ptr_encparm,\n",
    "  ctypes.c_ulonglong(5),\n",
    "  ctypes.cast(coeff_arr, ctypes.POINTER(ctypes.c_ulong))\n",
    ")\n",
    "\n",
    "#\n",
    "# Create SEAL context\n",
    "# with encryption parameter\n",
    "#\n",
    "\n",
    "# Create\n",
    "ptr_context = ctypes.c_void_p()\n",
    "seal_lib.SEALContext_Create(\n",
    "  ptr_encparm,\n",
    "  ctypes.c_bool(True),\n",
    "  ctypes.c_int(128),\n",
    "  ctypes.byref(ptr_context)\n",
    ")\n",
    "# Get first parms id\n",
    "parms_id = ctypes.c_ulonglong()\n",
    "seal_lib.SEALContext_FirstParmsId(\n",
    "  ptr_context,\n",
    "  ctypes.byref(parms_id)\n",
    ")"
   ]
  },
  {
   "cell_type": "code",
   "execution_count": 33,
   "id": "70c6cadd",
   "metadata": {},
   "outputs": [
    {
     "data": {
      "text/plain": [
       "0"
      ]
     },
     "execution_count": 33,
     "metadata": {},
     "output_type": "execute_result"
    }
   ],
   "source": [
    "#\n",
    "# Create keys for encryption, decryption, and relinearization\n",
    "#\n",
    "\n",
    "# Create key generator\n",
    "ptr_key_generator = ctypes.c_void_p()\n",
    "seal_lib.KeyGenerator_Create1(\n",
    "  ptr_context,\n",
    "  ctypes.byref(ptr_key_generator)\n",
    ")\n",
    "# Get secret key used for decryption\n",
    "# (Use SecretKey_Data() when you show secret key text)\n",
    "ptr_secret_key = ctypes.c_void_p()\n",
    "seal_lib.KeyGenerator_SecretKey(\n",
    "  ptr_key_generator,\n",
    "  ctypes.byref(ptr_secret_key)\n",
    ")\n",
    "# Create public key used for encryption\n",
    "ptr_public_key = ctypes.c_void_p()\n",
    "seal_lib.KeyGenerator_CreatePublicKey(\n",
    "  ptr_key_generator,\n",
    "  ctypes.c_bool(False),\n",
    "  ctypes.byref(ptr_public_key)\n",
    ")\n",
    "# Create relinearization key used for relinearization\n",
    "ptr_relin_key = ctypes.c_void_p()\n",
    "seal_lib.KeyGenerator_CreateRelinKeys(\n",
    "  ptr_key_generator,\n",
    "  ctypes.c_bool(False),\n",
    "  ctypes.byref(ptr_relin_key)\n",
    ")"
   ]
  },
  {
   "cell_type": "code",
   "execution_count": 34,
   "id": "3826faa2",
   "metadata": {},
   "outputs": [
    {
     "data": {
      "text/plain": [
       "0"
      ]
     },
     "execution_count": 34,
     "metadata": {},
     "output_type": "execute_result"
    }
   ],
   "source": [
    "#\n",
    "# Create CKKS encoder\n",
    "#\n",
    "\n",
    "# Create CKKS encoder\n",
    "ptr_encoder = ctypes.c_void_p()\n",
    "seal_lib.CKKSEncoder_Create(\n",
    "  ptr_context,\n",
    "  ctypes.byref(ptr_encoder)\n",
    ")\n",
    "# In CKKS, the number of slots is PolyModulusDegree / 2 and each slot encodes one number.\n",
    "# In encryption, the encoder will implicitly pad it with zeros to full size, PolyModulusDegree / 2.\n",
    "slot_size = ctypes.c_ulonglong()\n",
    "seal_lib.CKKSEncoder_SlotCount(\n",
    "  ptr_encoder,\n",
    "  ctypes.byref(slot_size)\n",
    ")\n",
    "\n",
    "#\n",
    "# Create plaintexts for PI (3.14159265) and 0.5\n",
    "# with CKKS encoder\n",
    "# (Encodes these floating-point values to every slot)\n",
    "#\n",
    "\n",
    "# Scale S = 2^40\n",
    "scale = pow(2.0, 40)\n",
    "# Create plain text for PI\n",
    "ptr_plain_pi = ctypes.c_void_p()\n",
    "seal_lib.Plaintext_Create1(\n",
    "  None,\n",
    "  ctypes.byref(ptr_plain_pi)\n",
    ")\n",
    "# CKKS encode for PI\n",
    "seal_lib.CKKSEncoder_Encode3(\n",
    "  ptr_encoder,\n",
    "  ctypes.c_double(3.14159265),\n",
    "  ctypes.byref(parms_id),\n",
    "  ctypes.c_double(scale),\n",
    "  ptr_plain_pi,\n",
    "  None\n",
    ")\n",
    "# Create plain text for 0.5\n",
    "ptr_plain_05 = ctypes.c_void_p()\n",
    "seal_lib.Plaintext_Create1(\n",
    "  None,\n",
    "  ctypes.byref(ptr_plain_05)\n",
    ")\n",
    "# CKKS encode for 0.5\n",
    "seal_lib.CKKSEncoder_Encode3(\n",
    "  ptr_encoder,\n",
    "  ctypes.c_double(0.5),\n",
    "  ctypes.byref(parms_id),\n",
    "  ctypes.c_double(scale),\n",
    "  ptr_plain_05,\n",
    "  None\n",
    ")"
   ]
  },
  {
   "cell_type": "code",
   "execution_count": 35,
   "id": "c4480340",
   "metadata": {},
   "outputs": [
    {
     "data": {
      "text/plain": [
       "0"
      ]
     },
     "execution_count": 35,
     "metadata": {},
     "output_type": "execute_result"
    }
   ],
   "source": [
    "#\n",
    "# Create encryption for x (= 0.0, 1.1, 2.2, 3.3)\n",
    "# with CKKS encoder\n",
    "# (Other slots will be padded with zeros)\n",
    "#\n",
    "\n",
    "# Create plain text for x\n",
    "ptr_plain_x = ctypes.c_void_p()\n",
    "seal_lib.Plaintext_Create1(\n",
    "  None,\n",
    "  ctypes.byref(ptr_plain_x)\n",
    ")\n",
    "# CKKS encode for x\n",
    "x_arr = (ctypes.c_double * 4)()\n",
    "x_arr[0] = 0.0\n",
    "x_arr[1] = 1.1\n",
    "x_arr[2] = 2.2\n",
    "x_arr[3] = 3.3\n",
    "seal_lib.CKKSEncoder_Encode1(\n",
    "  ptr_encoder,\n",
    "  ctypes.c_ulonglong(4),\n",
    "  ctypes.cast(x_arr, ctypes.POINTER(ctypes.c_double)),\n",
    "  ctypes.byref(parms_id),\n",
    "  ctypes.c_double(scale),\n",
    "  ptr_plain_x,\n",
    "  None\n",
    ")\n",
    "# Create cipher text for x\n",
    "ptr_cipher_x = ctypes.c_void_p()\n",
    "seal_lib.Ciphertext_Create1(\n",
    "  None,\n",
    "  ctypes.byref(ptr_cipher_x)\n",
    ")\n",
    "# Create encryptor\n",
    "ptr_encryptor = ctypes.c_void_p()\n",
    "seal_lib.Encryptor_Create(\n",
    "  ptr_context,\n",
    "  ptr_public_key,\n",
    "  None,\n",
    "  ctypes.byref(ptr_encryptor)\n",
    ")\n",
    "# Encrypt for x\n",
    "seal_lib.Encryptor_Encrypt(\n",
    "  ptr_encryptor,\n",
    "  ptr_plain_x,\n",
    "  ptr_cipher_x,\n",
    "  None\n",
    ")"
   ]
  },
  {
   "cell_type": "code",
   "execution_count": 36,
   "id": "6467ce74",
   "metadata": {},
   "outputs": [
    {
     "data": {
      "text/plain": [
       "0"
      ]
     },
     "execution_count": 36,
     "metadata": {},
     "output_type": "execute_result"
    }
   ],
   "source": [
    "#\n",
    "# Compute x^2\n",
    "#\n",
    "\n",
    "# Create Evaluator\n",
    "ptr_evaluator = ctypes.c_void_p()\n",
    "seal_lib.Evaluator_Create(\n",
    "  ptr_context,\n",
    "  ctypes.byref(ptr_evaluator)\n",
    ")"
   ]
  },
  {
   "cell_type": "code",
   "execution_count": 37,
   "id": "a254457c",
   "metadata": {},
   "outputs": [
    {
     "data": {
      "text/plain": [
       "0"
      ]
     },
     "execution_count": 37,
     "metadata": {},
     "output_type": "execute_result"
    }
   ],
   "source": [
    "# Create cipher text for result\n",
    "ptr_cipher_res1 = ctypes.c_void_p()\n",
    "seal_lib.Ciphertext_Create1(\n",
    "  None,\n",
    "  ctypes.byref(ptr_cipher_res1)\n",
    ")"
   ]
  },
  {
   "cell_type": "code",
   "execution_count": 38,
   "id": "8b036a88",
   "metadata": {},
   "outputs": [
    {
     "data": {
      "text/plain": [
       "0"
      ]
     },
     "execution_count": 38,
     "metadata": {},
     "output_type": "execute_result"
    }
   ],
   "source": [
    "# Square x\n",
    "seal_lib.Evaluator_Square(\n",
    "  ptr_evaluator,\n",
    "  ptr_cipher_x,\n",
    "  ptr_cipher_res1,\n",
    "  None\n",
    ")"
   ]
  },
  {
   "cell_type": "markdown",
   "id": "2690581a",
   "metadata": {},
   "source": [
    "This is a tutorial re-implementation for CKKS framework [2]"
   ]
  },
  {
   "cell_type": "markdown",
   "id": "3c73dc24",
   "metadata": {},
   "source": [
    "There are some framworks in CKKS that still needs to be researched and cleared such as: \n",
    "1. the C[X]/(X^N+1) instead of R=Zq[X]/(X^N+1),, given input vector z = C^(N/2) a polynomial conversion\n",
    "2. RLWE and LWE for operations: changing from O(n^2) to O(n) complexity\n",
    "3. ciphertext to cipertext multiplication -> the growth of the computational complexity like the increase in the degree of secret key \n",
    "4. relinearization: part of using evaluation key\n",
    "5. rescaling"
   ]
  },
  {
   "cell_type": "markdown",
   "id": "7d74c172",
   "metadata": {},
   "source": [
    "with RLWE\n",
    "\n",
    "addition operation on a single message\n",
    "\n",
    "secret s, and a public key p, given(b,a)=(−a.s+e,a) = (c0,c1)\n",
    "\n",
    "For encrypting a message μ we get output c=(μ+b,a)\n",
    "\n",
    "and to decrypt it with s we evaluate c = c0+c1.s = μ-a.s+e+a.s = μ+e ≈ μ"
   ]
  },
  {
   "cell_type": "markdown",
   "id": "99ca8b04",
   "metadata": {},
   "source": [
    "add: two messages, μ and μ′, encrypt into c=(c0,c1) and c′=(c′0,c′1) respectively \n",
    "\n",
    "c_add=c+c′=(c0+c′0,c1+c′1) equivalent to encryption of μ+μ′, i.e. \n",
    "\n",
    "implying if we decrypt it using s we get (approximatively) μ+μ′\n",
    "\n",
    "the decryption c_add,0+cadd,1.s=c0+c′0+(c1+c′1).s=(c0+c1.s)+(c′0+c′1.s)= μ-a.s+e+a.s + μ'-a.s+e+a.s = μ+μ′+2e≈μ+μ′"
   ]
  },
  {
   "cell_type": "markdown",
   "id": "fb8e331a",
   "metadata": {},
   "source": [
    "multiplication of ciphertext with plaintext\n",
    "\n",
    "plaintext μ, encrypted into the ciphertext c=(c0,c1) and a plaintext μ′\n",
    "\n",
    "ciphertext of the multiplication, need output c_mult=(μ′.c0,μ′.c1)\n",
    "\n",
    "decrypting c_mult we get μ′.c0+μ′.c1.s=μ′.(c0+c1.s)= μ′.(μ-a.s+e+a.s) = μ′.(μ+e)=μ′.μ+μ′.e≈μ′.μ"
   ]
  },
  {
   "cell_type": "code",
   "execution_count": 2,
   "id": "3c05c204",
   "metadata": {},
   "outputs": [
    {
     "data": {
      "text/plain": [
       "(0.7071067811865476+0.7071067811865475j)"
      ]
     },
     "execution_count": 2,
     "metadata": {},
     "output_type": "execute_result"
    }
   ],
   "source": [
    "import numpy as np\n",
    "\n",
    "# First we set the parameters\n",
    "M = 8\n",
    "N = M //2\n",
    "\n",
    "# We set xi, which will be used in our computations\n",
    "xi = np.exp(2 * np.pi * 1j / M)\n",
    "xi"
   ]
  },
  {
   "cell_type": "code",
   "execution_count": 4,
   "id": "576ecf93",
   "metadata": {},
   "outputs": [],
   "source": [
    "from numpy.polynomial import Polynomial\n",
    "\n",
    "class CKKSEncoder:\n",
    "    \"\"\"Basic CKKS encoder to encode complex vectors into polynomials.\"\"\"\n",
    "    \n",
    "    def __init__(self, M: int):\n",
    "        \"\"\"Initialization of the encoder for M a power of 2. \n",
    "        \n",
    "        xi, which is an M-th root of unity will, be used as a basis for our computations.\n",
    "        \"\"\"\n",
    "        self.xi = np.exp(2 * np.pi * 1j / M)\n",
    "        self.M = M\n",
    "        \n",
    "    @staticmethod\n",
    "    def vandermonde(xi: np.complex128, M: int) -> np.array:\n",
    "        \"\"\"Computes the Vandermonde matrix from a m-th root of unity.\"\"\"\n",
    "        \n",
    "        N = M //2\n",
    "        matrix = []\n",
    "        # We will generate each row of the matrix\n",
    "        for i in range(N):\n",
    "            # For each row we select a different root\n",
    "            root = xi ** (2 * i + 1)\n",
    "            row = []\n",
    "\n",
    "            # Then we store its powers\n",
    "            for j in range(N):\n",
    "                row.append(root ** j)\n",
    "            matrix.append(row)\n",
    "        return matrix\n",
    "    \n",
    "    def sigma_inverse(self, b: np.array) -> Polynomial:\n",
    "        \"\"\"Encodes the vector b in a polynomial using an M-th root of unity.\"\"\"\n",
    "\n",
    "        # First we create the Vandermonde matrix\n",
    "        A = CKKSEncoder.vandermonde(self.xi, M)\n",
    "\n",
    "        # Then we solve the system\n",
    "        coeffs = np.linalg.solve(A, b)\n",
    "\n",
    "        # Finally we output the polynomial\n",
    "        p = Polynomial(coeffs)\n",
    "        return p\n",
    "\n",
    "    def sigma(self, p: Polynomial) -> np.array:\n",
    "        \"\"\"Decodes a polynomial by applying it to the M-th roots of unity.\"\"\"\n",
    "\n",
    "        outputs = []\n",
    "        N = self.M //2\n",
    "\n",
    "        # We simply apply the polynomial on the roots\n",
    "        for i in range(N):\n",
    "            root = self.xi ** (2 * i + 1)\n",
    "            output = p(root)\n",
    "            outputs.append(output)\n",
    "        return np.array(outputs)"
   ]
  },
  {
   "cell_type": "code",
   "execution_count": 5,
   "id": "2ea04a41",
   "metadata": {},
   "outputs": [
    {
     "data": {
      "text/plain": [
       "array([1, 2, 3, 4])"
      ]
     },
     "execution_count": 5,
     "metadata": {},
     "output_type": "execute_result"
    }
   ],
   "source": [
    "# First we initialize our encoder\n",
    "encoder = CKKSEncoder(M)\n",
    "\n",
    "b = np.array([1, 2, 3, 4])\n",
    "b"
   ]
  },
  {
   "cell_type": "code",
   "execution_count": 6,
   "id": "75eda767",
   "metadata": {},
   "outputs": [
    {
     "data": {
      "text/latex": [
       "$x \\mapsto \\text{(2.5+4.440892098500626e-16j)} + (\\text{(-4.996003610813204e-16+0.7071067811865479j)})\\,x + (\\text{(-3.4694469519536176e-16+0.5000000000000003j)})\\,x^{2} + (\\text{(-8.326672684688674e-16+0.7071067811865472j)})\\,x^{3}$"
      ],
      "text/plain": [
       "Polynomial([ 2.50000000e+00+4.44089210e-16j, -4.99600361e-16+7.07106781e-01j,\n",
       "       -3.46944695e-16+5.00000000e-01j, -8.32667268e-16+7.07106781e-01j], domain=[-1,  1], window=[-1,  1], symbol='x')"
      ]
     },
     "execution_count": 6,
     "metadata": {},
     "output_type": "execute_result"
    }
   ],
   "source": [
    "p = encoder.sigma_inverse(b)\n",
    "p"
   ]
  },
  {
   "cell_type": "code",
   "execution_count": 7,
   "id": "e62fbac6",
   "metadata": {},
   "outputs": [
    {
     "data": {
      "text/plain": [
       "array([1.-1.11022302e-16j, 2.-4.71844785e-16j, 3.+2.77555756e-17j,\n",
       "       4.+2.22044605e-16j])"
      ]
     },
     "execution_count": 7,
     "metadata": {},
     "output_type": "execute_result"
    }
   ],
   "source": [
    "b_reconstructed = encoder.sigma(p)\n",
    "b_reconstructed"
   ]
  },
  {
   "cell_type": "code",
   "execution_count": 8,
   "id": "b1c83fb8",
   "metadata": {},
   "outputs": [
    {
     "data": {
      "text/plain": [
       "6.944442800358888e-16"
      ]
     },
     "execution_count": 8,
     "metadata": {},
     "output_type": "execute_result"
    }
   ],
   "source": [
    "np.linalg.norm(b_reconstructed - b)"
   ]
  },
  {
   "cell_type": "code",
   "execution_count": 9,
   "id": "41ad2b1f",
   "metadata": {},
   "outputs": [],
   "source": [
    "m1 = np.array([1, 2, 3, 4])\n",
    "m2 = np.array([1, -2, 3, -4])\n",
    "\n",
    "p1 = encoder.sigma_inverse(m1)\n",
    "p2 = encoder.sigma_inverse(m2)"
   ]
  },
  {
   "cell_type": "code",
   "execution_count": 10,
   "id": "8a2474b4",
   "metadata": {},
   "outputs": [
    {
     "data": {
      "text/latex": [
       "$x \\mapsto \\text{(2.0000000000000004+1.1102230246251565e-16j)} + (\\text{(-0.7071067811865477+0.707106781186547j)})\\,x + (\\text{(2.1094237467877966e-15-1.9999999999999996j)})\\,x^{2} + (\\text{(0.7071067811865466+0.707106781186549j)})\\,x^{3}$"
      ],
      "text/plain": [
       "Polynomial([ 2.00000000e+00+1.11022302e-16j, -7.07106781e-01+7.07106781e-01j,\n",
       "        2.10942375e-15-2.00000000e+00j,  7.07106781e-01+7.07106781e-01j], domain=[-1.,  1.], window=[-1.,  1.], symbol='x')"
      ]
     },
     "execution_count": 10,
     "metadata": {},
     "output_type": "execute_result"
    }
   ],
   "source": [
    "p_add = p1 + p2\n",
    "p_add"
   ]
  },
  {
   "cell_type": "code",
   "execution_count": 11,
   "id": "1c6b60d4",
   "metadata": {},
   "outputs": [
    {
     "data": {
      "text/plain": [
       "array([2.0000000e+00+3.25176795e-17j, 4.4408921e-16-4.44089210e-16j,\n",
       "       6.0000000e+00+1.11022302e-16j, 4.4408921e-16+3.33066907e-16j])"
      ]
     },
     "execution_count": 11,
     "metadata": {},
     "output_type": "execute_result"
    }
   ],
   "source": [
    "encoder.sigma(p_add)"
   ]
  },
  {
   "cell_type": "code",
   "execution_count": 12,
   "id": "c859a60f",
   "metadata": {},
   "outputs": [
    {
     "data": {
      "text/latex": [
       "$x \\mapsto \\text{1.0}\\color{LightGray}{ + \\text{0.0}\\,x}\\color{LightGray}{ + \\text{0.0}\\,x^{2}}\\color{LightGray}{ + \\text{0.0}\\,x^{3}} + \\text{1.0}\\,x^{4}$"
      ],
      "text/plain": [
       "Polynomial([1., 0., 0., 0., 1.], domain=[-1,  1], window=[-1,  1], symbol='x')"
      ]
     },
     "execution_count": 12,
     "metadata": {},
     "output_type": "execute_result"
    }
   ],
   "source": [
    "poly_modulo = Polynomial([1,0,0,0,1])\n",
    "poly_modulo"
   ]
  },
  {
   "cell_type": "code",
   "execution_count": 13,
   "id": "1898d59f",
   "metadata": {},
   "outputs": [],
   "source": [
    "p_mult = p1 * p2 % poly_modulo"
   ]
  },
  {
   "cell_type": "code",
   "execution_count": 14,
   "id": "b8bb6d37",
   "metadata": {},
   "outputs": [
    {
     "data": {
      "text/plain": [
       "array([  1.-8.67361738e-16j,  -4.+6.86950496e-16j,   9.+6.86950496e-16j,\n",
       "       -16.-9.08301212e-15j])"
      ]
     },
     "execution_count": 14,
     "metadata": {},
     "output_type": "execute_result"
    }
   ],
   "source": [
    "encoder.sigma(p_mult)"
   ]
  },
  {
   "cell_type": "code",
   "execution_count": null,
   "id": "6f604031",
   "metadata": {},
   "outputs": [],
   "source": []
  },
  {
   "cell_type": "code",
   "execution_count": 15,
   "id": "a53be20a",
   "metadata": {},
   "outputs": [],
   "source": [
    "from fastcore.foundation import patch_to"
   ]
  },
  {
   "cell_type": "code",
   "execution_count": 16,
   "id": "f8431f0d",
   "metadata": {},
   "outputs": [],
   "source": [
    "@patch_to(CKKSEncoder)\n",
    "def pi(self, z: np.array) -> np.array:\n",
    "    \"\"\"Projects a vector of H into C^{N/2}.\"\"\"\n",
    "    \n",
    "    N = self.M // 4\n",
    "    return z[:N]\n",
    "\n",
    "@patch_to(CKKSEncoder)\n",
    "def pi_inverse(self, z: np.array) -> np.array:\n",
    "    \"\"\"Expands a vector of C^{N/2} by expanding it with its\n",
    "    complex conjugate.\"\"\"\n",
    "    \n",
    "    z_conjugate = z[::-1]\n",
    "    z_conjugate = [np.conjugate(x) for x in z_conjugate]\n",
    "    return np.concatenate([z, z_conjugate])\n",
    "\n",
    "# We can now initialize our encoder with the added methods\n",
    "encoder = CKKSEncoder(M)"
   ]
  },
  {
   "cell_type": "code",
   "execution_count": 17,
   "id": "5a164bed",
   "metadata": {},
   "outputs": [
    {
     "data": {
      "text/plain": [
       "array([0, 1, 1, 0])"
      ]
     },
     "execution_count": 17,
     "metadata": {},
     "output_type": "execute_result"
    }
   ],
   "source": [
    "z = np.array([0,1])\n",
    "encoder.pi_inverse(z)"
   ]
  },
  {
   "cell_type": "code",
   "execution_count": 19,
   "id": "c2bffb48",
   "metadata": {},
   "outputs": [],
   "source": [
    "@patch_to(CKKSEncoder)\n",
    "def create_sigma_R_basis(self):\n",
    "    \"\"\"Creates the basis (sigma(1), sigma(X), ..., sigma(X** N-1)).\"\"\"\n",
    "\n",
    "    self.sigma_R_basis = np.array(self.vandermonde(self.xi, self.M)).T\n",
    "    \n",
    "@patch_to(CKKSEncoder)\n",
    "def __init__(self, M):\n",
    "    \"\"\"Initialize with the basis\"\"\"\n",
    "    self.xi = np.exp(2 * np.pi * 1j / M)\n",
    "    self.M = M\n",
    "    self.create_sigma_R_basis()\n",
    "    \n",
    "encoder = CKKSEncoder(M)"
   ]
  },
  {
   "cell_type": "code",
   "execution_count": 20,
   "id": "8f6d2b09",
   "metadata": {},
   "outputs": [
    {
     "data": {
      "text/plain": [
       "array([[ 1.00000000e+00+0.j        ,  1.00000000e+00+0.j        ,\n",
       "         1.00000000e+00+0.j        ,  1.00000000e+00+0.j        ],\n",
       "       [ 7.07106781e-01+0.70710678j, -7.07106781e-01+0.70710678j,\n",
       "        -7.07106781e-01-0.70710678j,  7.07106781e-01-0.70710678j],\n",
       "       [ 2.22044605e-16+1.j        , -4.44089210e-16-1.j        ,\n",
       "         1.11022302e-15+1.j        , -1.38777878e-15-1.j        ],\n",
       "       [-7.07106781e-01+0.70710678j,  7.07106781e-01+0.70710678j,\n",
       "         7.07106781e-01-0.70710678j, -7.07106781e-01-0.70710678j]])"
      ]
     },
     "execution_count": 20,
     "metadata": {},
     "output_type": "execute_result"
    }
   ],
   "source": [
    "encoder.sigma_R_basis"
   ]
  },
  {
   "cell_type": "code",
   "execution_count": 21,
   "id": "367adb99",
   "metadata": {},
   "outputs": [
    {
     "data": {
      "text/plain": [
       "array([1.+2.41421356j, 1.+0.41421356j, 1.-0.41421356j, 1.-2.41421356j])"
      ]
     },
     "execution_count": 21,
     "metadata": {},
     "output_type": "execute_result"
    }
   ],
   "source": [
    "# Here we simply take a vector whose coordinates are (1,1,1,1) in the lattice basis\n",
    "coordinates = [1,1,1,1]\n",
    "\n",
    "b = np.matmul(encoder.sigma_R_basis.T, coordinates)\n",
    "b"
   ]
  },
  {
   "cell_type": "code",
   "execution_count": 22,
   "id": "a9737f64",
   "metadata": {},
   "outputs": [],
   "source": [
    "@patch_to(CKKSEncoder)\n",
    "def compute_basis_coordinates(self, z):\n",
    "    \"\"\"Computes the coordinates of a vector with respect to the orthogonal lattice basis.\"\"\"\n",
    "    output = np.array([np.real(np.vdot(z, b) / np.vdot(b,b)) for b in self.sigma_R_basis])\n",
    "    return output\n",
    "\n",
    "def round_coordinates(coordinates):\n",
    "    \"\"\"Gives the integral rest.\"\"\"\n",
    "    coordinates = coordinates - np.floor(coordinates)\n",
    "    return coordinates\n",
    "\n",
    "def coordinate_wise_random_rounding(coordinates):\n",
    "    \"\"\"Rounds coordinates randonmly.\"\"\"\n",
    "    r = round_coordinates(coordinates)\n",
    "    f = np.array([np.random.choice([c, c-1], 1, p=[1-c, c]) for c in r]).reshape(-1)\n",
    "    \n",
    "    rounded_coordinates = coordinates - f\n",
    "    rounded_coordinates = [int(coeff) for coeff in rounded_coordinates]\n",
    "    return rounded_coordinates\n",
    "\n",
    "@patch_to(CKKSEncoder)\n",
    "def sigma_R_discretization(self, z):\n",
    "    \"\"\"Projects a vector on the lattice using coordinate wise random rounding.\"\"\"\n",
    "    coordinates = self.compute_basis_coordinates(z)\n",
    "    \n",
    "    rounded_coordinates = coordinate_wise_random_rounding(coordinates)\n",
    "    y = np.matmul(self.sigma_R_basis.T, rounded_coordinates)\n",
    "    return y\n",
    "\n",
    "encoder = CKKSEncoder(M)"
   ]
  },
  {
   "cell_type": "code",
   "execution_count": 23,
   "id": "c8efd43f",
   "metadata": {},
   "outputs": [],
   "source": [
    "@patch_to(CKKSEncoder)\n",
    "def __init__(self, M:int, scale:float):\n",
    "    \"\"\"Initializes with scale.\"\"\"\n",
    "    self.xi = np.exp(2 * np.pi * 1j / M)\n",
    "    self.M = M\n",
    "    self.create_sigma_R_basis()\n",
    "    self.scale = scale\n",
    "    \n",
    "@patch_to(CKKSEncoder)\n",
    "def encode(self, z: np.array) -> Polynomial:\n",
    "    \"\"\"Encodes a vector by expanding it first to H,\n",
    "    scale it, project it on the lattice of sigma(R), and performs\n",
    "    sigma inverse.\n",
    "    \"\"\"\n",
    "    pi_z = self.pi_inverse(z)\n",
    "    scaled_pi_z = self.scale * pi_z\n",
    "    rounded_scale_pi_zi = self.sigma_R_discretization(scaled_pi_z)\n",
    "    p = self.sigma_inverse(rounded_scale_pi_zi)\n",
    "    \n",
    "    # We round it afterwards due to numerical imprecision\n",
    "    coef = np.round(np.real(p.coef)).astype(int)\n",
    "    p = Polynomial(coef)\n",
    "    return p\n",
    "\n",
    "@patch_to(CKKSEncoder)\n",
    "def decode(self, p: Polynomial) -> np.array:\n",
    "    \"\"\"Decodes a polynomial by removing the scale, \n",
    "    evaluating on the roots, and project it on C^(N/2)\"\"\"\n",
    "    rescaled_p = p / self.scale\n",
    "    z = self.sigma(rescaled_p)\n",
    "    pi_z = self.pi(z)\n",
    "    return pi_z\n",
    "\n",
    "scale = 64\n",
    "\n",
    "encoder = CKKSEncoder(M, scale)"
   ]
  },
  {
   "cell_type": "code",
   "execution_count": 24,
   "id": "a31ee1eb",
   "metadata": {},
   "outputs": [
    {
     "data": {
      "text/plain": [
       "array([3.+4.j, 2.-1.j])"
      ]
     },
     "execution_count": 24,
     "metadata": {},
     "output_type": "execute_result"
    }
   ],
   "source": [
    "z = np.array([3 +4j, 2 - 1j])\n",
    "z"
   ]
  },
  {
   "cell_type": "code",
   "execution_count": 25,
   "id": "e4f784d4",
   "metadata": {},
   "outputs": [
    {
     "data": {
      "text/latex": [
       "$x \\mapsto \\text{160.0} + \\text{91.0}\\,x + \\text{160.0}\\,x^{2} + \\text{45.0}\\,x^{3}$"
      ],
      "text/plain": [
       "Polynomial([160.,  91., 160.,  45.], domain=[-1,  1], window=[-1,  1], symbol='x')"
      ]
     },
     "execution_count": 25,
     "metadata": {},
     "output_type": "execute_result"
    }
   ],
   "source": [
    "p = encoder.encode(z)\n",
    "p"
   ]
  },
  {
   "cell_type": "code",
   "execution_count": 26,
   "id": "adc0db60",
   "metadata": {},
   "outputs": [
    {
     "data": {
      "text/plain": [
       "array([3.008233+4.00260191j, 1.991767-0.99739809j])"
      ]
     },
     "execution_count": 26,
     "metadata": {},
     "output_type": "execute_result"
    }
   ],
   "source": [
    "encoder.decode(p)"
   ]
  },
  {
   "cell_type": "code",
   "execution_count": null,
   "id": "ffd940ef",
   "metadata": {},
   "outputs": [],
   "source": []
  },
  {
   "cell_type": "markdown",
   "id": "5cc75794",
   "metadata": {},
   "source": [
    "ML: \n",
    "This is the tutorial re-implementation of FHE for tensors [3]"
   ]
  },
  {
   "cell_type": "code",
   "execution_count": 1,
   "id": "c3f1f965",
   "metadata": {},
   "outputs": [],
   "source": [
    "import torch\n",
    "from torchvision import datasets\n",
    "import torchvision.transforms as transforms\n",
    "import numpy as np\n",
    "import tenseal as ts"
   ]
  },
  {
   "cell_type": "code",
   "execution_count": 2,
   "id": "4a67d673",
   "metadata": {},
   "outputs": [],
   "source": [
    "torch.manual_seed(73)\n",
    "\n",
    "train_data = datasets.MNIST('data', train=True, download=True, transform=transforms.ToTensor())\n",
    "test_data = datasets.MNIST('data', train=False, download=True, transform=transforms.ToTensor())\n",
    "\n",
    "batch_size = 64\n",
    "\n",
    "train_loader = torch.utils.data.DataLoader(train_data, batch_size=batch_size, shuffle=True)\n",
    "test_loader = torch.utils.data.DataLoader(test_data, batch_size=batch_size, shuffle=True)"
   ]
  },
  {
   "cell_type": "code",
   "execution_count": 3,
   "id": "eea93190",
   "metadata": {},
   "outputs": [],
   "source": [
    "class ConvNet(torch.nn.Module):\n",
    "    def __init__(self, hidden=64, output=10):\n",
    "        super(ConvNet, self).__init__()        \n",
    "        self.conv1 = torch.nn.Conv2d(1, 4, kernel_size=7, padding=0, stride=3)\n",
    "        self.fc1 = torch.nn.Linear(256, hidden)\n",
    "        self.fc2 = torch.nn.Linear(hidden, output)\n",
    "\n",
    "    def forward(self, x):\n",
    "        x = self.conv1(x)\n",
    "        # the model uses the square activation function\n",
    "        x = x * x\n",
    "        # flattening while keeping the batch axis\n",
    "        x = x.view(-1, 256)\n",
    "        x = self.fc1(x)\n",
    "        x = x * x\n",
    "        x = self.fc2(x)\n",
    "        return x\n",
    "\n",
    "\n",
    "def train(model, train_loader, criterion, optimizer, n_epochs=10):\n",
    "    # model in training mode\n",
    "    model.train()\n",
    "    for epoch in range(1, n_epochs+1):\n",
    "\n",
    "        train_loss = 0.0\n",
    "        for data, target in train_loader:\n",
    "            optimizer.zero_grad()\n",
    "            output = model(data)\n",
    "            loss = criterion(output, target)\n",
    "            loss.backward()\n",
    "            optimizer.step()\n",
    "            train_loss += loss.item()\n",
    "\n",
    "        # calculate average losses\n",
    "        train_loss = train_loss / len(train_loader)\n",
    "\n",
    "        print('Epoch: {} \\tTraining Loss: {:.6f}'.format(epoch, train_loss))\n",
    "    \n",
    "    # model in evaluation mode\n",
    "    model.eval()\n",
    "    return model"
   ]
  },
  {
   "cell_type": "code",
   "execution_count": 4,
   "id": "4d736a26",
   "metadata": {},
   "outputs": [
    {
     "name": "stdout",
     "output_type": "stream",
     "text": [
      "Epoch: 1 \tTraining Loss: 0.397561\n",
      "Epoch: 2 \tTraining Loss: 0.130699\n",
      "Epoch: 3 \tTraining Loss: 0.088399\n",
      "Epoch: 4 \tTraining Loss: 0.071318\n",
      "Epoch: 5 \tTraining Loss: 0.058989\n",
      "Epoch: 6 \tTraining Loss: 0.050542\n",
      "Epoch: 7 \tTraining Loss: 0.044438\n",
      "Epoch: 8 \tTraining Loss: 0.038264\n",
      "Epoch: 9 \tTraining Loss: 0.034633\n",
      "Epoch: 10 \tTraining Loss: 0.031598\n"
     ]
    }
   ],
   "source": [
    "model = ConvNet()\n",
    "criterion = torch.nn.CrossEntropyLoss()\n",
    "optimizer = torch.optim.Adam(model.parameters(), lr=0.001)\n",
    "model = train(model, train_loader, criterion, optimizer, 10)"
   ]
  },
  {
   "cell_type": "code",
   "execution_count": 5,
   "id": "ea65eb60",
   "metadata": {},
   "outputs": [
    {
     "name": "stdout",
     "output_type": "stream",
     "text": [
      "Test Loss: 0.077313\n",
      "\n",
      "Test Accuracy of 0: 98% (968/980)\n",
      "Test Accuracy of 1: 99% (1130/1135)\n",
      "Test Accuracy of 2: 98% (1015/1032)\n",
      "Test Accuracy of 3: 99% (1002/1010)\n",
      "Test Accuracy of 4: 98% (969/982)\n",
      "Test Accuracy of 5: 98% (882/892)\n",
      "Test Accuracy of 6: 98% (946/958)\n",
      "Test Accuracy of 7: 98% (1008/1028)\n",
      "Test Accuracy of 8: 97% (945/974)\n",
      "Test Accuracy of 9: 96% (975/1009)\n",
      "\n",
      "Test Accuracy (Overall): 98% (9840/10000)\n"
     ]
    }
   ],
   "source": [
    "def test(model, test_loader, criterion):\n",
    "    # initialize lists to monitor test loss and accuracy\n",
    "    test_loss = 0.0\n",
    "    class_correct = list(0. for i in range(10))\n",
    "    class_total = list(0. for i in range(10))\n",
    "\n",
    "    # model in evaluation mode\n",
    "    model.eval()\n",
    "\n",
    "    for data, target in test_loader:\n",
    "        output = model(data)\n",
    "        loss = criterion(output, target)\n",
    "        test_loss += loss.item()\n",
    "        # convert output probabilities to predicted class\n",
    "        _, pred = torch.max(output, 1)\n",
    "        # compare predictions to true label\n",
    "        correct = np.squeeze(pred.eq(target.data.view_as(pred)))\n",
    "        # calculate test accuracy for each object class\n",
    "        for i in range(len(target)):\n",
    "            label = target.data[i]\n",
    "            class_correct[label] += correct[i].item()\n",
    "            class_total[label] += 1\n",
    "\n",
    "    # calculate and print avg test loss\n",
    "    test_loss = test_loss/len(test_loader)\n",
    "    print(f'Test Loss: {test_loss:.6f}\\n')\n",
    "\n",
    "    for label in range(10):\n",
    "        print(\n",
    "            f'Test Accuracy of {label}: {int(100 * class_correct[label] / class_total[label])}% '\n",
    "            f'({int(np.sum(class_correct[label]))}/{int(np.sum(class_total[label]))})'\n",
    "        )\n",
    "\n",
    "    print(\n",
    "        f'\\nTest Accuracy (Overall): {int(100 * np.sum(class_correct) / np.sum(class_total))}% ' \n",
    "        f'({int(np.sum(class_correct))}/{int(np.sum(class_total))})'\n",
    "    )\n",
    "    \n",
    "test(model, test_loader, criterion)"
   ]
  },
  {
   "cell_type": "code",
   "execution_count": 6,
   "id": "30b0885b",
   "metadata": {},
   "outputs": [],
   "source": [
    "class EncConvNet:\n",
    "    def __init__(self, torch_nn):\n",
    "        self.conv1_weight = torch_nn.conv1.weight.data.view(\n",
    "            torch_nn.conv1.out_channels, torch_nn.conv1.kernel_size[0],\n",
    "            torch_nn.conv1.kernel_size[1]\n",
    "        ).tolist()\n",
    "        self.conv1_bias = torch_nn.conv1.bias.data.tolist()\n",
    "        \n",
    "        self.fc1_weight = torch_nn.fc1.weight.T.data.tolist()\n",
    "        self.fc1_bias = torch_nn.fc1.bias.data.tolist()\n",
    "        \n",
    "        self.fc2_weight = torch_nn.fc2.weight.T.data.tolist()\n",
    "        self.fc2_bias = torch_nn.fc2.bias.data.tolist()\n",
    "        \n",
    "        \n",
    "    def forward(self, enc_x, windows_nb):\n",
    "        # conv layer\n",
    "        enc_channels = []\n",
    "        for kernel, bias in zip(self.conv1_weight, self.conv1_bias):\n",
    "            y = enc_x.conv2d_im2col(kernel, windows_nb) + bias\n",
    "            enc_channels.append(y)\n",
    "        # pack all channels into a single flattened vector\n",
    "        enc_x = ts.CKKSVector.pack_vectors(enc_channels)\n",
    "        # square activation\n",
    "        enc_x.square_()\n",
    "        # fc1 layer\n",
    "        enc_x = enc_x.mm(self.fc1_weight) + self.fc1_bias\n",
    "        # square activation\n",
    "        enc_x.square_()\n",
    "        # fc2 layer\n",
    "        enc_x = enc_x.mm(self.fc2_weight) + self.fc2_bias\n",
    "        return enc_x\n",
    "    \n",
    "    def __call__(self, *args, **kwargs):\n",
    "        return self.forward(*args, **kwargs)\n",
    "\n",
    "    \n",
    "def enc_test(context, model, test_loader, criterion, kernel_shape, stride):\n",
    "    # initialize lists to monitor test loss and accuracy\n",
    "    test_loss = 0.0\n",
    "    class_correct = list(0. for i in range(10))\n",
    "    class_total = list(0. for i in range(10))\n",
    "\n",
    "    for data, target in test_loader:\n",
    "        # Encoding and encryption\n",
    "        x_enc, windows_nb = ts.im2col_encoding(\n",
    "            context, data.view(28, 28).tolist(), kernel_shape[0],\n",
    "            kernel_shape[1], stride)\n",
    "        # Encrypted evaluation\n",
    "        enc_output = enc_model(x_enc, windows_nb)\n",
    "        # Decryption of result\n",
    "        output = enc_output.decrypt()\n",
    "        output = torch.tensor(output).view(1, -1)\n",
    "\n",
    "        # compute loss\n",
    "        loss = criterion(output, target)\n",
    "        test_loss += loss.item()\n",
    "        \n",
    "        # convert output probabilities to predicted class\n",
    "        _, pred = torch.max(output, 1)\n",
    "        # compare predictions to true label\n",
    "        correct = np.squeeze(pred.eq(target.data.view_as(pred)))\n",
    "        # calculate test accuracy for each object class\n",
    "        label = target.data[0]\n",
    "        class_correct[label] += correct.item()\n",
    "        class_total[label] += 1\n",
    "\n",
    "\n",
    "    # calculate and print avg test loss\n",
    "    test_loss = test_loss / sum(class_total)\n",
    "    print(f'Test Loss: {test_loss:.6f}\\n')\n",
    "\n",
    "    for label in range(10):\n",
    "        print(\n",
    "            f'Test Accuracy of {label}: {int(100 * class_correct[label] / class_total[label])}% '\n",
    "            f'({int(np.sum(class_correct[label]))}/{int(np.sum(class_total[label]))})'\n",
    "        )\n",
    "\n",
    "    print(\n",
    "        f'\\nTest Accuracy (Overall): {int(100 * np.sum(class_correct) / np.sum(class_total))}% ' \n",
    "        f'({int(np.sum(class_correct))}/{int(np.sum(class_total))})'\n",
    "    )\n",
    "    \n",
    "# Load one element at a time\n",
    "test_loader = torch.utils.data.DataLoader(test_data, batch_size=1, shuffle=True)\n",
    "# required for encoding\n",
    "kernel_shape = model.conv1.kernel_size\n",
    "stride = model.conv1.stride[0]"
   ]
  },
  {
   "cell_type": "code",
   "execution_count": 51,
   "id": "c2fc7fdb",
   "metadata": {},
   "outputs": [],
   "source": [
    "## Encryption Parameters\n",
    "\n",
    "# controls precision of the fractional part\n",
    "#bits_scale = 21\n",
    "\n",
    "# Create TenSEAL context\n",
    "context = ts.context(\n",
    "    ts.SCHEME_TYPE.CKKS,\n",
    "    poly_modulus_degree=8192,#must be a power of 2 (e.g. 1024,2048,4096,8192, 16384..)\n",
    "    coeff_mod_bit_sizes=[25, 21, 21, 21, 21, 21, 21, 25]\n",
    ")\n",
    "# I am still trying to understand the dependency of modulus degree and mod bit sizes with bits scale on the computational\n",
    "#speed and precision for 128-bit security\n",
    "# set the scale\n",
    "context.global_scale = pow(2, 21)\n",
    "#rescaling: suppose we must do L multiplications, with a scale Δ, then we will define q as:q=Δ^L.q0\n",
    "#if we suppose we want 11 bits of precision for the decimal part, and 10 bits of precision for the integer part, \n",
    "#we will set:Δ=2^11,q0=2^(# bits integer).2^(# bits decimal)=2^(10+11)=2^21, q -> modulo of the coefficients of polynomial\n",
    "#Rq=Zq[X]/(X^N+1)\n",
    "\n",
    "# galois keys are required to do ciphertext rotations\n",
    "context.generate_galois_keys()"
   ]
  },
  {
   "cell_type": "code",
   "execution_count": 52,
   "id": "6c353228",
   "metadata": {},
   "outputs": [
    {
     "name": "stdout",
     "output_type": "stream",
     "text": [
      "Test Loss: 116.512219\n",
      "\n",
      "Test Accuracy of 0: 61% (606/980)\n",
      "Test Accuracy of 1: 93% (1057/1135)\n",
      "Test Accuracy of 2: 50% (516/1032)\n",
      "Test Accuracy of 3: 73% (742/1010)\n",
      "Test Accuracy of 4: 63% (621/982)\n",
      "Test Accuracy of 5: 55% (495/892)\n",
      "Test Accuracy of 6: 69% (662/958)\n",
      "Test Accuracy of 7: 74% (765/1028)\n",
      "Test Accuracy of 8: 74% (727/974)\n",
      "Test Accuracy of 9: 66% (671/1009)\n",
      "\n",
      "Test Accuracy (Overall): 68% (6862/10000)\n"
     ]
    }
   ],
   "source": [
    "#took around 0.75 to 1 hour and changes depend on context parameters.\n",
    "enc_model = EncConvNet(model)\n",
    "enc_test(context, enc_model, test_loader, criterion, kernel_shape, stride)"
   ]
  },
  {
   "cell_type": "markdown",
   "id": "5c28beba",
   "metadata": {},
   "source": [
    "Reference:\n",
    "\n",
    "[1] https://tsmatz.wordpress.com/2022/01/26/microsoft-seal-homomorphic-encryption-ml/ \n",
    "\n",
    "[2] https://blog.openmined.org/\n",
    "\n",
    "[3] https://github.com/OpenMined/TenSEAL"
   ]
  },
  {
   "cell_type": "code",
   "execution_count": null,
   "id": "5b9975ec",
   "metadata": {},
   "outputs": [],
   "source": []
  }
 ],
 "metadata": {
  "kernelspec": {
   "display_name": "Python 3 (ipykernel)",
   "language": "python",
   "name": "python3"
  },
  "language_info": {
   "codemirror_mode": {
    "name": "ipython",
    "version": 3
   },
   "file_extension": ".py",
   "mimetype": "text/x-python",
   "name": "python",
   "nbconvert_exporter": "python",
   "pygments_lexer": "ipython3",
   "version": "3.10.13"
  }
 },
 "nbformat": 4,
 "nbformat_minor": 5
}
